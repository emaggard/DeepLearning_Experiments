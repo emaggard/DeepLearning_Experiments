{
 "cells": [
  {
   "cell_type": "markdown",
   "metadata": {},
   "source": [
    "# Markdown Cheat Sheet\n",
    "This is a cheat sheet for editing markdown files in README or jupyter notebooks   \n",
    "Markdown CheatSheet can be found: https://www.markdownguide.org/cheat-sheet/   \n",
    "\n",
    "Github specific Markdown styling can be found: https://github.github.com/gfm/    \n",
    "and here: https://guides.github.com/pdfs/markdown-cheatsheet-online.pdf    "
   ]
  },
  {
   "cell_type": "markdown",
   "metadata": {},
   "source": [
    "Headers\n",
    "======\n",
    "---\n",
    "\n",
    "These are the various headers for Markdown:   \n",
    "# This is an  H1 tag\n",
    "## This is an H2 tag\n",
    "### This is an H3 tag\n",
    "###### This is an H6 tag\n",
    "\n",
    "Alternatively, for H1 and H2, an underline-ish style:\n",
    "Alt-H1\n",
    "======\n",
    "Alt-H2\n",
    "------\n",
    "Note: some might not support the underline styles. Then have to do the \"---\" option.   \n"
   ]
  },
  {
   "cell_type": "markdown",
   "metadata": {},
   "source": [
    "# Ordered Lists\n",
    "---\n",
    "1. Item 1\n",
    "2. Item 2\n",
    "3. Item 3\n",
    " * Item 3a\n",
    " * Item 3b"
   ]
  },
  {
   "cell_type": "markdown",
   "metadata": {},
   "source": [
    "# Unordered Lists\n",
    "---\n",
    "* Item 1\n",
    "* Item 2\n",
    " * Item 2a\n",
    " * Item 2b"
   ]
  },
  {
   "cell_type": "markdown",
   "metadata": {},
   "source": [
    "# Bold Text\n",
    "---\n",
    "This is **bold** text   \n",
    "Another line with **bold** text"
   ]
  },
  {
   "cell_type": "markdown",
   "metadata": {},
   "source": [
    "# Italic Text\n",
    "---\n",
    "This is *italicized* text"
   ]
  },
  {
   "cell_type": "markdown",
   "metadata": {},
   "source": [
    "Block Quote\n",
    "======\n",
    "---\n",
    "> blockquote of someone"
   ]
  },
  {
   "cell_type": "markdown",
   "metadata": {},
   "source": [
    "Hyperlink\n",
    "======\n",
    "---\n",
    "[Title of the link: Google](https://www.google.com)"
   ]
  },
  {
   "cell_type": "markdown",
   "metadata": {},
   "source": [
    "Insert Picture\n",
    "======\n",
    "---\n",
    "![Text of Picture](tinkerbot.jpg)\n",
    "This is Tinkerbot"
   ]
  },
  {
   "cell_type": "markdown",
   "metadata": {},
   "source": [
    "# Alternate Characters\n",
    "---\n",
    "Markdown provides backslash escapes for the following characters:   \n",
    "\\ backslash   \n",
    "\\` backtick   \n",
    "\\* asterisk   \n",
    "\\_ underscore   \n",
    "\\{} curly braces   \n",
    "\\[] square brackets   \n",
    "\\() parentheses   \n",
    "\\# hash mark   \n",
    "\\+ plus sign    \n",
    "\\- minus sign (hyphen)   \n",
    "\\. dot   \n",
    "\\! exclamation mark   "
   ]
  },
  {
   "cell_type": "markdown",
   "metadata": {},
   "source": [
    "# Extended Options:\n",
    "---"
   ]
  },
  {
   "cell_type": "markdown",
   "metadata": {},
   "source": [
    "# Tables\n",
    "| Syntax | Description |\n",
    "| ----------- | ----------- |\n",
    "| Header | Title |\n",
    "| Paragraph | Text |\n",
    "| Paragraph | Text |\n",
    "| Paragraph | Text |"
   ]
  },
  {
   "cell_type": "markdown",
   "metadata": {},
   "source": [
    "# Task Lists\n",
    "- [x] this is a complete item\n",
    "- [ ] this is an incomplete item\n",
    "- [x] @mentions, #refs, [links](),\n",
    "**formatting**, and <del>tags</del>\n",
    "supported\n",
    "- [x] list syntax required (any\n",
    "unordered or ordered list\n",
    "supported)"
   ]
  },
  {
   "cell_type": "code",
   "execution_count": null,
   "metadata": {},
   "outputs": [],
   "source": []
  }
 ],
 "metadata": {
  "kernelspec": {
   "display_name": "Python 3",
   "language": "python",
   "name": "python3"
  },
  "language_info": {
   "codemirror_mode": {
    "name": "ipython",
    "version": 3
   },
   "file_extension": ".py",
   "mimetype": "text/x-python",
   "name": "python",
   "nbconvert_exporter": "python",
   "pygments_lexer": "ipython3",
   "version": "3.5.2"
  }
 },
 "nbformat": 4,
 "nbformat_minor": 2
}
